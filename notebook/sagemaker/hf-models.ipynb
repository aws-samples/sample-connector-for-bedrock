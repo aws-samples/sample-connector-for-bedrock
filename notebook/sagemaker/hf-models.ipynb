{
 "cells": [
  {
   "cell_type": "markdown",
   "metadata": {},
   "source": [
    "# Deploy huggingface's models\n",
    "\n",
    "If you deploy models fron huggingface, just replace the model_id value.\n",
    "\n",
    "These tested:\n",
    "\n",
    "- Qwen2-7B-Instruct\n",
    "- llama3\n",
    "- chatglm3\n",
    "- glm4-chat (bug: output will not stop even add stop_token_ids)\n",
    "- phi3 (todo: clean response)\n",
    "\n",
    "\n",
    "## Deploy"
   ]
  },
  {
   "cell_type": "code",
   "execution_count": null,
   "metadata": {},
   "outputs": [],
   "source": [
    "import dotenv\n",
    "import os\n",
    "import sagemaker\n",
    "import boto3\n",
    "\n",
    "dotenv.load_dotenv(\".env\", override=True)\n",
    "\n",
    "role_name = os.environ.get(\"role_name\")\n",
    "\n",
    "model_id=\"shenzhi-wang/Llama3-8B-Chinese-Chat\" \n",
    "endpoint_name = \"llama3\"\n",
    "model_id=\"THUDM/chatglm3-6b\" \n",
    "endpoint_name = \"glm3\"\n",
    "model_id=\"THUDM/glm-4-9b-chat\" \n",
    "endpoint_name = \"glm4-chat\"\n",
    "model_id=\"Qwen/Qwen2-7B-Instruct\" \n",
    "endpoint_name = \"qwen2\"\n",
    "model_id=\"microsoft/Phi-3-mini-128k-instruct\" \n",
    "endpoint_name = \"phi-3\"\n",
    "\n",
    "model_id=\"deepseek-ai/DeepSeek-R1-Distill-Qwen-1.5B\"\n",
    "endpoint_name = \"deepseek-15\"\n",
    "\n",
    "# model_id=\"llava-hf/llava-1.5-7b-hf\"\n",
    "\n",
    "sagemaker_session = sagemaker.session.Session()\n",
    "region = sagemaker_session._region_name\n",
    "\n",
    "\n",
    "try:\n",
    "    role = sagemaker.get_execution_role() # If you online sagemaker notebook\n",
    "except ValueError:\n",
    "    iam = boto3.client(\"iam\")\n",
    "    role = iam.get_role(RoleName=role_name)[\"Role\"][\"Arn\"]\n",
    "\n",
    "\n",
    "image_uri = sagemaker.image_uris.retrieve(framework=\"djl-lmi\", version=\"0.28.0\", region=region)\n",
    "instance_type = \"ml.g5.2xlarge\"\n",
    "\n",
    "role_name, model_id, image_uri"
   ]
  },
  {
   "cell_type": "code",
   "execution_count": null,
   "metadata": {},
   "outputs": [],
   "source": [
    "model = sagemaker.Model(\n",
    "  image_uri=image_uri,\n",
    "  role=role,\n",
    "  env={\n",
    "      \"HF_MODEL_ID\": model_id,\n",
    "      # \"OPTION_ROLLING_BATCH\": \"vllm\",\n",
    "      \"HF_MODEL_TRUST_REMOTE_CODE\": \"True\",\n",
    "      # \"GPU_MEMORY_UTILIZATION\": \"0.99\"\n",
    "  }\n",
    ")\n",
    "\n",
    "model.deploy(\n",
    "  instance_type=instance_type, \n",
    "  initial_instance_count=1, \n",
    "  endpoint_name=endpoint_name\n",
    ")"
   ]
  },
  {
   "cell_type": "markdown",
   "metadata": {},
   "source": [
    "## Test"
   ]
  },
  {
   "cell_type": "code",
   "execution_count": null,
   "metadata": {},
   "outputs": [],
   "source": [
    "\n",
    "from sagemaker.serializers import JSONSerializer\n",
    "from sagemaker.deserializers import JSONDeserializer\n",
    "\n",
    "predictor = sagemaker.Predictor(\n",
    "  endpoint_name=endpoint_name,\n",
    "  sagemaker_session=sagemaker_session,\n",
    "  serializer=JSONSerializer(),\n",
    "  deserializer=JSONDeserializer(),\n",
    ")"
   ]
  },
  {
   "cell_type": "code",
   "execution_count": null,
   "metadata": {},
   "outputs": [],
   "source": [
    "\n",
    "result = predictor.predict({\n",
    "    \"messages\": [\n",
    "      {\n",
    "        \"role\": \"system\",\n",
    "        \"content\": \"You are a helpful assistant\"\n",
    "      },\n",
    "      {\n",
    "        \"role\": \"user\",\n",
    "        \"content\": \"who are you?\"\n",
    "      }\n",
    "    ],\n",
    "    \"max_tokens\":256\n",
    "  })\n",
    "print(result)"
   ]
  },
  {
   "cell_type": "markdown",
   "metadata": {},
   "source": [
    "## Delete"
   ]
  },
  {
   "cell_type": "code",
   "execution_count": null,
   "metadata": {},
   "outputs": [],
   "source": [
    "predictor.delete_model()\n",
    "predictor.delete_endpoint()"
   ]
  }
 ],
 "metadata": {
  "kernelspec": {
   "display_name": "cf",
   "language": "python",
   "name": "python3"
  },
  "language_info": {
   "codemirror_mode": {
    "name": "ipython",
    "version": 3
   },
   "file_extension": ".py",
   "mimetype": "text/x-python",
   "name": "python",
   "nbconvert_exporter": "python",
   "pygments_lexer": "ipython3",
   "version": "3.13.0"
  }
 },
 "nbformat": 4,
 "nbformat_minor": 2
}
